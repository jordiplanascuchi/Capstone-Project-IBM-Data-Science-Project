{
 "cells": [
  {
   "cell_type": "markdown",
   "metadata": {},
   "source": [
    "<img src=\"Imatges/PortadaBusinessProblem.jpg\" width=\"1200\" />"
   ]
  },
  {
   "cell_type": "markdown",
   "metadata": {},
   "source": [
    "## Introduction\n",
    "### Summary\n",
    "In this project I’m going to answer two questions:\n",
    "* Is there a relationship between the socioeconomic status of people living in a district and the profile of venues in it?\n",
    "* At what times is better to clean the central district of Girona?\n",
    "Girona is a small catalan city in between Barcelona and Perpinyà. It is a university town wich is the capital of a worldwide tourist destination la Costa Brava. It is a dinamic city with good communications and a growing technology sector.\n",
    "\n",
    "The project has two main parts:\n",
    "* Data acquisition and data preparation.\n",
    "  * Fetch geographical information, process it and feed it to the Foursquare queries.\n",
    "  * Process the results of Foursquare queries\n",
    "  * Fetch and process statistical data \n",
    "The most important aspect is that I will create a framework to get all these data even though some of the data will not be very relevant. For example, data on trending venues will cover a short period of a very special confinement time. But it can be fully deployed at any time\n",
    "* From data to information.\n",
    "  * Apply machine learning methodologies and techniques to extract relevant information out of data\n",
    "  * Data visualization will help on the understanding of the insights obtained so far.\n",
    "\n",
    "#### Background\n",
    "Cities, as large human settlements, flourished in parallel with the development of agriculture and have been characterized by the specialization and social division of labor. Great cities have existed in all civilizations of the human history and they have been planned and managed by bureaucracy systems which needed data science to do the job. One example that I like to use to link cities and data science is the development of the concept of the number zero. Even if in some of them the number was not invented, most of the ancient civilizations developed the concept of zero and used it for calculations in many areas like accounting, astronomy, geography etc.\n",
    "Cities are great places to enhance human interaction both for the good and for the bad. In both cases data science is paramount in improving human life. In this project I develop a process to gather data from cities which can be used by different stakeholders. I’m mainly targeting\n",
    "* Companies which want to explore the socioeconomic landscape of cities to make informed decisions about their businesses\n",
    "* Government and governmental agencies seeking to improve resource allocation, from the deployment of police forces to budget allocation\n",
    "In all these cases, a fine granulation of the city would be of major interest as it allows us to make a zoom to small patches that can be also aggregated conveniently. Often, postal code areas are used to do this division of the city, but I think that census areas are a better choice. Census areas in Catalonia are areas where there are between 500 and 2000 electors. One census area cannot include territories of more than one municipality, and they can be grouped administratively into census districts. Moreover, official statistical data is geographically segmented by census districts.\n",
    "In this project, I use Girona as a case study that can be later extrapolated to other cities in the country. Girona will be divided in census areas and from this reference area, Foursquare can be used both:\n",
    "* To map all the venues in Girona\n",
    "* To track trending venues over time\n",
    "\n",
    "### Mapping venues\n",
    "Mapping venues in towns is the first step in the process of typifying census areas with relation to the profile of facilities and commercial activities. This profiling can be complemented and/or further correlated with other statistical data like socioeconomic status of inhabitants. \n",
    "For example, if an area is characterized by the presence of restaurants and small households occupied mainly by young people, a real state company can focus its efforts in selling or hiring in this area to this profile of young single or couple wealthy people. If there is another area with parks and supermarkets and households are of an average four people, this means that it may be a family neighborhood. A supermarket chain may consider it as a target neighborhood.\n",
    "For governmental stakeholders, checking the reviews of businesses around an area might be a very useful source of information to plan specific support actions for this or that particular area.\n",
    "\n",
    "### Tracking trending venues\n",
    "Tracking trending venues gives a proxy for food traffic in an area. Running the queries at time intervals for 24 hours during a period of time, optimally throughout a whole year, will yield an invaluable time series of people’s habits in a city. This data can be complemented and correlated with other data like crime data, sales data and the like.\n",
    "In the private sector, this information would be of major concern for people who wants to open a store in the city. Also, for owners who want to optimize their opening hours etc.\n",
    "For governmental institutions, this information may help in planning of street cleaning schedules, budgeting and planning of maintenance operations. It may also help on planning the deployment of police units etc.\n"
   ]
  },
  {
   "cell_type": "code",
   "execution_count": null,
   "metadata": {},
   "outputs": [],
   "source": []
  }
 ],
 "metadata": {
  "kernelspec": {
   "display_name": "Python 3",
   "language": "python",
   "name": "python3"
  },
  "language_info": {
   "codemirror_mode": {
    "name": "ipython",
    "version": 3
   },
   "file_extension": ".py",
   "mimetype": "text/x-python",
   "name": "python",
   "nbconvert_exporter": "python",
   "pygments_lexer": "ipython3",
   "version": "3.7.6"
  }
 },
 "nbformat": 4,
 "nbformat_minor": 4
}
